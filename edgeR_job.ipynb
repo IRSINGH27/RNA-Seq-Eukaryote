{
 "cells": [
  {
   "cell_type": "code",
   "execution_count": null,
   "metadata": {
    "vscode": {
     "languageId": "r"
    }
   },
   "outputs": [],
   "source": [
    "library(edgeR)\n",
    "library(gplots)\n",
    "library(statmod)"
   ]
  },
  {
   "cell_type": "code",
   "execution_count": null,
   "metadata": {
    "vscode": {
     "languageId": "r"
    }
   },
   "outputs": [],
   "source": [
    "setwd(\"/data/anomandaris_data/aswin/irsingh/amit_singh_rna_Seq/Ragini_eukar/Ragini_VeroE6/output/s_species/cTabFiles\")\n"
   ]
  },
  {
   "cell_type": "code",
   "execution_count": null,
   "metadata": {
    "vscode": {
     "languageId": "r"
    }
   },
   "outputs": [],
   "source": [
    "GenewiseCounts<-read.csv('./only_ref_gene_count_matrix.csv',row.name=1)\n",
    "GenewiseCounts<-as.matrix(GenewiseCounts)\n"
   ]
  },
  {
   "cell_type": "code",
   "execution_count": null,
   "metadata": {
    "vscode": {
     "languageId": "r"
    }
   },
   "outputs": [],
   "source": [
    "sort(as.vector(colnames(GenewiseCounts)))"
   ]
  },
  {
   "cell_type": "code",
   "execution_count": null,
   "metadata": {
    "vscode": {
     "languageId": "r"
    }
   },
   "outputs": [],
   "source": [
    "\n",
    "GenewiseCounts_backup<-GenewiseCounts\n",
    "group<- c(rep(\"Uninfected\",3),rep('Infected',3),rep('Infected_treated_GYY4137',3))\n",
    "df_names<-data.frame(condition=group,name=as.vector(colnames(GenewiseCounts)))\n",
    "colnames(GenewiseCounts)<-df_names$condition\n",
    "head(GenewiseCounts)"
   ]
  },
  {
   "cell_type": "code",
   "execution_count": null,
   "metadata": {
    "vscode": {
     "languageId": "r"
    }
   },
   "outputs": [],
   "source": [
    "columnCombiner<-function(df){\n",
    "    count<-1\n",
    "    x<-rle(colnames(df))\n",
    "    z<-list()\n",
    "    for (i in 1:length(x$length)){\n",
    "        if (i==1){\n",
    "        # print(head(GenewiseCounts[,seq(count,x$length[i])]))\n",
    "        z<-append(z,list(seq(count,x$length[i])))\n",
    "        count<-x$length[i]+1\n",
    "        }else{\n",
    "            # print(head(GenewiseCounts[,seq(count,count-1+x$length[i])]))\n",
    "            z<-append(z,list(seq(count,count-1+x$length[i])))\n",
    "            count<-count+x$length[i]\n",
    "        }\n",
    "    }\n",
    "    return(z)\n",
    "}"
   ]
  },
  {
   "cell_type": "code",
   "execution_count": null,
   "metadata": {
    "vscode": {
     "languageId": "r"
    }
   },
   "outputs": [],
   "source": [
    "GG <- rownames(GenewiseCounts)\n",
    "AA <- columnCombiner(GenewiseCounts)\n",
    "keep <- c()\n",
    "for (i in 1:length(AA)) {\n",
    "  print(i)\n",
    "  keep <- rowSums(GenewiseCounts[,AA[[i]]]>10)\n",
    "  GG <- cbind(GG,keep)\n",
    "}\n",
    "head(GG)\n",
    "head(GenewiseCounts)\n",
    "\n",
    "GG <- as.data.frame(GG)\n",
    "GG <- GG[-1]\n",
    "GG1<- apply(GG,2, as.numeric)\n",
    "rownames(GG1) <- rownames(GG)\n",
    "head(GG1)\n",
    "keep <- rowSums(GG1 >= 2)>=1\n",
    "GenewiseCounts<- GenewiseCounts[keep,]\n",
    "\n",
    "head(GenewiseCounts)\n"
   ]
  },
  {
   "cell_type": "code",
   "execution_count": null,
   "metadata": {
    "vscode": {
     "languageId": "r"
    }
   },
   "outputs": [],
   "source": [
    "y<-DGEList(GenewiseCounts,group=group)\n",
    "\n",
    "\n",
    "options(digits=3)\n",
    "y$samples #Optional, to see the samples in the matrix\n",
    "\n",
    "#Normalization for composition bias- TMM normalization. To normalize for across samples variability. (Wild type and mutant)\n",
    "y<-calcNormFactors(y)\n",
    "y$samples\n"
   ]
  },
  {
   "cell_type": "code",
   "execution_count": null,
   "metadata": {
    "vscode": {
     "languageId": "r"
    }
   },
   "outputs": [],
   "source": [
    "design <- model.matrix(~0+group)\n",
    "y<-estimateDisp(y,design,robust=TRUE)\n",
    "fit<-glmQLFit(y,design,robust=TRUE)\n",
    "head(fit$coefficients)\n",
    "logCPM<-cpm(y,log=TRUE)\n",
    "dirname<-'./'\n",
    "write.csv(cpm(y),paste(dirname,\"CPM_values.csv\",sep = \"_\"))\n",
    "write.csv(logCPM,paste(dirname,\"log_CPM_values.csv\",sep = \"_\"))"
   ]
  },
  {
   "cell_type": "code",
   "execution_count": null,
   "metadata": {
    "vscode": {
     "languageId": "r"
    }
   },
   "outputs": [],
   "source": [
    "cpmDF<-cpm(y)\n",
    "pca_result<-pccomp(t(cpmDF),scale=TRUE)\n",
    "pca_table<-data.frame(pca_result$x)\n",
    "pca_table$group<-unlist(lapply(colnames(cpmDF),FUN=function(x){strsplit(x,'\\\\.')[[1]][1]}))\n",
    "pca_table$group<-rep(c('Uninfected','SARS-CoV-2','SARS-CoV-2+GYY4137'),each=3)\n",
    "sdev<-pca_result$sdev\n",
    "explained_variance<-(sdev^2)/sum(sdev^2)\n",
    "explained_variance<-explained_variance*100"
   ]
  },
  {
   "cell_type": "code",
   "execution_count": null,
   "metadata": {
    "vscode": {
     "languageId": "r"
    }
   },
   "outputs": [],
   "source": [
    "p<-ggplot(pca_table, aes(x=PC1, y=PC2,color=group,shape=group)) +\n",
    "        geom_point(size=5)+\n",
    "        scale_colour_manual(values = c('#e64b35','#4dbbd4','#45a088'))+\n",
    "        scale_fill_manual(values = c('#e64b35','#4dbbd4','#45a088'))+\n",
    "        geom_polygon(data = triangle_data, aes(x = x, y = y,fill=group), alpha = 0.2, color = NA,show.legend = F)+\n",
    "        theme_bw() +\n",
    "        theme(\n",
    "        text = element_text(family = 'sans',size=20),\n",
    "        legend.position = \"top\", \n",
    "        legend.text = element_text(size = 14),\n",
    "        legend.title = element_text(size = 0),\n",
    "        plot.title = element_text(size = 8*4, hjust = 0.5),\n",
    "        panel.background = element_blank(),  # Make panel background transparent\n",
    "        plot.background = element_blank()    # Make plot background transparent\n",
    "        )+\n",
    "        annotate(\"text\", x = 25, y = 60, label = \"SARS-CoV-2\\n + GYY4137\", size = 8, color = \"black\")+\n",
    "        annotate(\"text\", x = 25, y = -45, label = \"SARS-CoV-2\", size = 8, color = \"black\")+\n",
    "        annotate(\"text\", x = -105, y = 25, label = \"Uninfected\", size = 8, color = \"black\")+\n",
    "        labs(x=paste('PC1 (',explained_variance[1],')',sep=' '),y=paste('PC2 (',explained_variance[2],')',sep=' '),color='')+\n",
    "        geom_hline(yintercept = 0,linetype='dashed')+\n",
    "        geom_vline(xintercept = 0,linetype='dashed')+\n",
    "        guides(color = guide_legend(\"Conditions\"),\n",
    "                shape = guide_legend(\"Conditions\"),\n",
    "                fill=guide_legend(\"Conditions\"))\n",
    "\n",
    "    ggsave('pcaplot.png',p,dpi = 600,bg = 'transparent')\n",
    "    print(p)"
   ]
  },
  {
   "cell_type": "code",
   "execution_count": null,
   "metadata": {
    "vscode": {
     "languageId": "r"
    }
   },
   "outputs": [],
   "source": [
    "uniq_group <- unique(group)\n",
    "comparisons <- c()\n",
    "for (i in seq(1,length(uniq_group)-1)) {\n",
    "  for (j in seq(i+1,length(uniq_group))) {\n",
    "    if (\"Uninfected\"==uniq_group[i]){\n",
    "      x <- paste0(\"group\",uniq_group[j])\n",
    "      y <- paste0(\"group\",uniq_group[i])\n",
    "    }else{\n",
    "      if (\"Infected\" == uniq_group[i]){\n",
    "        x <- paste0(\"group\",uniq_group[j])\n",
    "        y <- paste0(\"group\",uniq_group[i])\n",
    "      }else{\n",
    "        x <- paste0(\"group\",uniq_group[i])\n",
    "        y <- paste0(\"group\",uniq_group[j])\n",
    "        }\n",
    "    }\n",
    "    comparisons <- c(comparisons, paste(x,y,sep = \"-\"))\n",
    "  }\n",
    "}\n",
    "for (i in comparisons){\n",
    "  print(i)\n",
    "}"
   ]
  },
  {
   "cell_type": "code",
   "execution_count": null,
   "metadata": {
    "vscode": {
     "languageId": "r"
    }
   },
   "outputs": [],
   "source": [
    "\n",
    "dir.create(\"./comparison_files\")\n",
    "dir.create(\"./heatmaps_comparisons\")\n",
    "\n",
    "col.pan<-colorpanel(100,\"orange red\",\"light cyan\",\"blue\")\n",
    "for (x in comparisons) {\n",
    "  x\n",
    "  mvsw<-makeContrasts(x,levels=design)\n",
    "  # We use QL F-tests. It gives stricter error rate control by accounting for uncertainity in dispersion estimate.\n",
    "  res<-glmQLFTest(fit,contrast=mvsw)\n",
    "  W<- topTags(res,n = nrow(res$table))\n",
    "  write.csv(W$table, file= paste(paste(\"./comparison_files\",dirname,sep = \"/\"),paste(x,\".csv\",sep = \"\"),sep = \"_\"))\n",
    "}"
   ]
  }
 ],
 "metadata": {
  "kernelspec": {
   "display_name": "R",
   "language": "R",
   "name": "ir"
  },
  "language_info": {
   "codemirror_mode": "r",
   "file_extension": ".r",
   "mimetype": "text/x-r-source",
   "name": "R",
   "pygments_lexer": "r",
   "version": "4.3.3"
  }
 },
 "nbformat": 4,
 "nbformat_minor": 2
}
